{
 "cells": [
  {
   "attachments": {
    "image.png": {
     "image/png": "[encoded data removed]"
    }
   },
   "cell_type": "markdown",
   "id": "e7d21aee",
   "metadata": {},
   "source": [
    "# 1 - Tipos de Variáveis\n",
    "\n",
    "- Os tipos de variáveis são categorizados principalmente em duas grandes classes: variáveis qualitativas e variáveis quantitativas. Cada uma dessas classes possui subcategorias com características distintas.\n",
    "\n",
    "![image.png](attachment:image.png)\n",
    "\n",
    "- Neste notebook vamos abordar as variáveis qualitativas:\n",
    "\n",
    "# 2 - Variáveis Qualitativas (Categóricas)\n",
    "- Essas variáveis descrevem qualidades ou categorias e não possuem valores numéricos que façam sentido para operações matemáticas.\n",
    "    - **Nominais:** Variáveis que representam categorias sem uma ordem intrínseca.\n",
    "        - Exemplos: Cor dos olhos (azul, verde, castanho), gênero (masculino, feminino).\n",
    "    - **Ordinais:** Variáveis que possuem uma ordem natural, mas as diferenças entre as categorias não são uniformes.\n",
    "        - Exemplos: Nível de escolaridade (fundamental, médio, superior), classificações (ruim, regular, bom, excelente).\n",
    "\n",
    "# 3 -  Estatísticas Descritivas para Variáveis Qualitativas\n",
    "\n",
    "## 3.1 - Distribuições de Frequências\n",
    "- Ao lidar com variáveis qualitativas, uma maneira comum de resumir os dados é através das distribuições de frequência. Isso envolve contar o número de vezes que cada categoria ocorre na amostra de dados. \n",
    "- Vamos utilizar como exemplo hipotético uma tabela que contenha o número de pessoas por grau de instrução em uma empresa:"
   ]
  },
  {
   "cell_type": "code",
   "execution_count": 1,
   "id": "0851c703",
   "metadata": {},
   "outputs": [],
   "source": [
    "import pandas as pd\n",
    "\n",
    "# Criando o DataFrame com os dados da distribuição de frequencias da variável grau de instrução:\n",
    "data = {\n",
    "    'Grau de Instrução': ['Fundamental', 'Médio', 'Superior', 'Total'],\n",
    "    'Frequência': [12, 18, 6, 36],\n",
    "}\n",
    "\n",
    "df = pd.DataFrame(data)"
   ]
  },
  {
   "cell_type": "code",
   "execution_count": 2,
   "id": "efb03d7f",
   "metadata": {},
   "outputs": [
    {
     "data": {
      "text/html": [
       "<div>\n",
       "<style scoped>\n",
       "    .dataframe tbody tr th:only-of-type {\n",
       "        vertical-align: middle;\n",
       "    }\n",
       "\n",
       "    .dataframe tbody tr th {\n",
       "        vertical-align: top;\n",
       "    }\n",
       "\n",
       "    .dataframe thead th {\n",
       "        text-align: right;\n",
       "    }\n",
       "</style>\n",
       "<table border=\"1\" class=\"dataframe\">\n",
       "  <thead>\n",
       "    <tr style=\"text-align: right;\">\n",
       "      <th></th>\n",
       "      <th>Grau de Instrução</th>\n",
       "      <th>Frequência</th>\n",
       "    </tr>\n",
       "  </thead>\n",
       "  <tbody>\n",
       "    <tr>\n",
       "      <th>0</th>\n",
       "      <td>Fundamental</td>\n",
       "      <td>12</td>\n",
       "    </tr>\n",
       "    <tr>\n",
       "      <th>1</th>\n",
       "      <td>Médio</td>\n",
       "      <td>18</td>\n",
       "    </tr>\n",
       "    <tr>\n",
       "      <th>2</th>\n",
       "      <td>Superior</td>\n",
       "      <td>6</td>\n",
       "    </tr>\n",
       "    <tr>\n",
       "      <th>3</th>\n",
       "      <td>Total</td>\n",
       "      <td>36</td>\n",
       "    </tr>\n",
       "  </tbody>\n",
       "</table>\n",
       "</div>"
      ],
      "text/plain": [
       "  Grau de Instrução  Frequência\n",
       "0       Fundamental          12\n",
       "1             Médio          18\n",
       "2          Superior           6\n",
       "3             Total          36"
      ]
     },
     "execution_count": 2,
     "metadata": {},
     "output_type": "execute_result"
    }
   ],
   "source": [
    "# Visualizando os dados\n",
    "df"
   ]
  },
  {
   "cell_type": "code",
   "execution_count": 3,
   "id": "d7b4e6a2",
   "metadata": {},
   "outputs": [
    {
     "data": {
      "text/html": [
       "<div>\n",
       "<style scoped>\n",
       "    .dataframe tbody tr th:only-of-type {\n",
       "        vertical-align: middle;\n",
       "    }\n",
       "\n",
       "    .dataframe tbody tr th {\n",
       "        vertical-align: top;\n",
       "    }\n",
       "\n",
       "    .dataframe thead th {\n",
       "        text-align: right;\n",
       "    }\n",
       "</style>\n",
       "<table border=\"1\" class=\"dataframe\">\n",
       "  <thead>\n",
       "    <tr style=\"text-align: right;\">\n",
       "      <th></th>\n",
       "      <th>Grau de Instrução</th>\n",
       "      <th>Frequência</th>\n",
       "      <th>Frequência Relativa</th>\n",
       "    </tr>\n",
       "  </thead>\n",
       "  <tbody>\n",
       "    <tr>\n",
       "      <th>0</th>\n",
       "      <td>Fundamental</td>\n",
       "      <td>12</td>\n",
       "      <td>0.333333</td>\n",
       "    </tr>\n",
       "    <tr>\n",
       "      <th>1</th>\n",
       "      <td>Médio</td>\n",
       "      <td>18</td>\n",
       "      <td>0.500000</td>\n",
       "    </tr>\n",
       "    <tr>\n",
       "      <th>2</th>\n",
       "      <td>Superior</td>\n",
       "      <td>6</td>\n",
       "      <td>0.166667</td>\n",
       "    </tr>\n",
       "    <tr>\n",
       "      <th>3</th>\n",
       "      <td>Total</td>\n",
       "      <td>36</td>\n",
       "      <td>1.000000</td>\n",
       "    </tr>\n",
       "  </tbody>\n",
       "</table>\n",
       "</div>"
      ],
      "text/plain": [
       "  Grau de Instrução  Frequência  Frequência Relativa\n",
       "0       Fundamental          12             0.333333\n",
       "1             Médio          18             0.500000\n",
       "2          Superior           6             0.166667\n",
       "3             Total          36             1.000000"
      ]
     },
     "execution_count": 3,
     "metadata": {},
     "output_type": "execute_result"
    }
   ],
   "source": [
    "# Calculando a Frequência Relativa \n",
    "df['Frequência Relativa'] = df['Frequência'] / df['Frequência'].iloc[3] \n",
    "df"
   ]
  },
  {
   "cell_type": "code",
   "execution_count": 4,
   "id": "48e5d370",
   "metadata": {},
   "outputs": [
    {
     "data": {
      "text/html": [
       "<div>\n",
       "<style scoped>\n",
       "    .dataframe tbody tr th:only-of-type {\n",
       "        vertical-align: middle;\n",
       "    }\n",
       "\n",
       "    .dataframe tbody tr th {\n",
       "        vertical-align: top;\n",
       "    }\n",
       "\n",
       "    .dataframe thead th {\n",
       "        text-align: right;\n",
       "    }\n",
       "</style>\n",
       "<table border=\"1\" class=\"dataframe\">\n",
       "  <thead>\n",
       "    <tr style=\"text-align: right;\">\n",
       "      <th></th>\n",
       "      <th>Grau de Instrução</th>\n",
       "      <th>Frequência</th>\n",
       "      <th>Frequência Relativa</th>\n",
       "      <th>Porcentagem</th>\n",
       "    </tr>\n",
       "  </thead>\n",
       "  <tbody>\n",
       "    <tr>\n",
       "      <th>0</th>\n",
       "      <td>Fundamental</td>\n",
       "      <td>12</td>\n",
       "      <td>0.333333</td>\n",
       "      <td>33.33</td>\n",
       "    </tr>\n",
       "    <tr>\n",
       "      <th>1</th>\n",
       "      <td>Médio</td>\n",
       "      <td>18</td>\n",
       "      <td>0.500000</td>\n",
       "      <td>50.00</td>\n",
       "    </tr>\n",
       "    <tr>\n",
       "      <th>2</th>\n",
       "      <td>Superior</td>\n",
       "      <td>6</td>\n",
       "      <td>0.166667</td>\n",
       "      <td>16.67</td>\n",
       "    </tr>\n",
       "    <tr>\n",
       "      <th>3</th>\n",
       "      <td>Total</td>\n",
       "      <td>36</td>\n",
       "      <td>1.000000</td>\n",
       "      <td>100.00</td>\n",
       "    </tr>\n",
       "  </tbody>\n",
       "</table>\n",
       "</div>"
      ],
      "text/plain": [
       "  Grau de Instrução  Frequência  Frequência Relativa  Porcentagem\n",
       "0       Fundamental          12             0.333333        33.33\n",
       "1             Médio          18             0.500000        50.00\n",
       "2          Superior           6             0.166667        16.67\n",
       "3             Total          36             1.000000       100.00"
      ]
     },
     "execution_count": 4,
     "metadata": {},
     "output_type": "execute_result"
    }
   ],
   "source": [
    "# Calculando a Porcentagem\n",
    "df['Porcentagem'] = df['Frequência Relativa'] * 100\n",
    "df['Porcentagem']= df['Porcentagem'].round(2)\n",
    "df"
   ]
  },
  {
   "cell_type": "code",
   "execution_count": 5,
   "id": "6b7f4b80",
   "metadata": {},
   "outputs": [
    {
     "data": {
      "text/html": [
       "<div>\n",
       "<style scoped>\n",
       "    .dataframe tbody tr th:only-of-type {\n",
       "        vertical-align: middle;\n",
       "    }\n",
       "\n",
       "    .dataframe tbody tr th {\n",
       "        vertical-align: top;\n",
       "    }\n",
       "\n",
       "    .dataframe thead th {\n",
       "        text-align: right;\n",
       "    }\n",
       "</style>\n",
       "<table border=\"1\" class=\"dataframe\">\n",
       "  <thead>\n",
       "    <tr style=\"text-align: right;\">\n",
       "      <th></th>\n",
       "      <th>Grau de Instrução</th>\n",
       "      <th>Frequência</th>\n",
       "      <th>Frequência Relativa</th>\n",
       "      <th>Porcentagem</th>\n",
       "      <th>Frequência Acumulada</th>\n",
       "    </tr>\n",
       "  </thead>\n",
       "  <tbody>\n",
       "    <tr>\n",
       "      <th>0</th>\n",
       "      <td>Fundamental</td>\n",
       "      <td>12</td>\n",
       "      <td>0.333333</td>\n",
       "      <td>33.33</td>\n",
       "      <td>0.33</td>\n",
       "    </tr>\n",
       "    <tr>\n",
       "      <th>1</th>\n",
       "      <td>Médio</td>\n",
       "      <td>18</td>\n",
       "      <td>0.500000</td>\n",
       "      <td>50.00</td>\n",
       "      <td>0.83</td>\n",
       "    </tr>\n",
       "    <tr>\n",
       "      <th>2</th>\n",
       "      <td>Superior</td>\n",
       "      <td>6</td>\n",
       "      <td>0.166667</td>\n",
       "      <td>16.67</td>\n",
       "      <td>1.00</td>\n",
       "    </tr>\n",
       "    <tr>\n",
       "      <th>3</th>\n",
       "      <td>Total</td>\n",
       "      <td>36</td>\n",
       "      <td>1.000000</td>\n",
       "      <td>100.00</td>\n",
       "      <td>2.00</td>\n",
       "    </tr>\n",
       "  </tbody>\n",
       "</table>\n",
       "</div>"
      ],
      "text/plain": [
       "  Grau de Instrução  Frequência  Frequência Relativa  Porcentagem  \\\n",
       "0       Fundamental          12             0.333333        33.33   \n",
       "1             Médio          18             0.500000        50.00   \n",
       "2          Superior           6             0.166667        16.67   \n",
       "3             Total          36             1.000000       100.00   \n",
       "\n",
       "   Frequência Acumulada  \n",
       "0                  0.33  \n",
       "1                  0.83  \n",
       "2                  1.00  \n",
       "3                  2.00  "
      ]
     },
     "execution_count": 5,
     "metadata": {},
     "output_type": "execute_result"
    }
   ],
   "source": [
    "# Calculando Frequência Acumulada\n",
    "df['Frequência Acumulada'] = df['Frequência Relativa'].cumsum()\n",
    "df['Frequência Acumulada'] = df['Frequência Acumulada'].round(2)\n",
    "df"
   ]
  },
  {
   "cell_type": "markdown",
   "id": "d593fd40",
   "metadata": {},
   "source": [
    "- Desta forma, podemos concluir que:\n",
    "    - A frequência acumulada para os graus de instrução Fundamental e Médio indica que 83.33% dos funcionários têm, no máximo, o ensino médio. Consequentemente, isso significa que 83.33% dos funcionários não possuem ensino superior.\n",
    "\n",
    "### 2.1 Gráfico de Barras\n",
    "- Um gráfico de barras é uma forma de visualizar dados categóricos ou discretos, onde cada barra representa a frequência ou valor de um item específico"
   ]
  },
  {
   "cell_type": "code",
   "execution_count": 6,
   "id": "a0cc8602",
   "metadata": {},
   "outputs": [
    {
     "data": {
      "image/png": "[encoded data removed]",
      "text/plain": [
       "<Figure size 600x300 with 1 Axes>"
      ]
     },
     "metadata": {},
     "output_type": "display_data"
    }
   ],
   "source": [
    "import matplotlib.pyplot as plt\n",
    "df = df[df['Grau de Instrução'] != 'Total']\n",
    "\n",
    "plt.figure(figsize=(6, 3))\n",
    "plt.bar(df['Grau de Instrução'], df['Frequência'], color='#ADD8E6', edgecolor='k')\n",
    "plt.title('Frequência dos Graus de Instrução')\n",
    "plt.xlabel('Grau de Instrução')\n",
    "plt.ylabel('Frequência')\n",
    "plt.show()"
   ]
  }
 ],
 "metadata": {
  "kernelspec": {
   "display_name": "Python 3 (ipykernel)",
   "language": "python",
   "name": "python3"
  },
  "language_info": {
   "codemirror_mode": {
    "name": "ipython",
    "version": 3
   },
   "file_extension": ".py",
   "mimetype": "text/x-python",
   "name": "python",
   "nbconvert_exporter": "python",
   "pygments_lexer": "ipython3",
   "version": "3.11.4"
  }
 },
 "nbformat": 4,
 "nbformat_minor": 5
}
