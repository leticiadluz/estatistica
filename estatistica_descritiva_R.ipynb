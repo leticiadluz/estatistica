{
 "cells": [
  {
   "cell_type": "markdown",
   "id": "3ebc117e",
   "metadata": {},
   "source": [
    "# Estatística Descritiva\n",
    "\n",
    "- Com a estatística descritiva podemos descrever os dados usando dois tipos princiapis de medidas:\n",
    "    - **Medidas de posição:** média, mediana, moda, valor máximo, valor mínimo, amplitude e quantis empíricos;\n",
    "    - **Medidas de dispersão:** desvio padrão, variância e coeficiente de variação.\n",
    "    \n",
    "\n",
    "- Vamos gerar uma massa de dados aleatórios para descrever e aplicar os principais conceitos em estatística descritiva. Usamos sample() para criar amostras aleatórias de um conjunto de dados ou intervalo.\n",
    "\n",
    "## Medidas de Posição"
   ]
  },
  {
   "cell_type": "code",
   "execution_count": 1,
   "id": "f948f52e",
   "metadata": {},
   "outputs": [],
   "source": [
    "# 1:50: Isso define o intervalo de onde queremos amostrar.\n",
    "#1000: Esse é o tamanho da amostra que queremos gerar\n",
    "#replace = TRUE: amostragem é com reposição\n",
    "\n",
    "dados <- sample(1:50, 1000, replace = TRUE)"
   ]
  },
  {
   "cell_type": "code",
   "execution_count": 2,
   "id": "17913ff5",
   "metadata": {},
   "outputs": [
    {
     "data": {
      "text/html": [
       "<style>\n",
       ".list-inline {list-style: none; margin:0; padding: 0}\n",
       ".list-inline>li {display: inline-block}\n",
       ".list-inline>li:not(:last-child)::after {content: \"\\00b7\"; padding: 0 .5ex}\n",
       "</style>\n",
       "<ol class=list-inline><li>49</li><li>3</li><li>46</li><li>30</li><li>27</li><li>43</li><li>47</li><li>41</li><li>25</li><li>49</li><li>49</li><li>6</li><li>10</li><li>6</li><li>29</li><li>11</li><li>17</li><li>36</li><li>7</li><li>9</li></ol>\n"
      ],
      "text/latex": [
       "\\begin{enumerate*}\n",
       "\\item 49\n",
       "\\item 3\n",
       "\\item 46\n",
       "\\item 30\n",
       "\\item 27\n",
       "\\item 43\n",
       "\\item 47\n",
       "\\item 41\n",
       "\\item 25\n",
       "\\item 49\n",
       "\\item 49\n",
       "\\item 6\n",
       "\\item 10\n",
       "\\item 6\n",
       "\\item 29\n",
       "\\item 11\n",
       "\\item 17\n",
       "\\item 36\n",
       "\\item 7\n",
       "\\item 9\n",
       "\\end{enumerate*}\n"
      ],
      "text/markdown": [
       "1. 49\n",
       "2. 3\n",
       "3. 46\n",
       "4. 30\n",
       "5. 27\n",
       "6. 43\n",
       "7. 47\n",
       "8. 41\n",
       "9. 25\n",
       "10. 49\n",
       "11. 49\n",
       "12. 6\n",
       "13. 10\n",
       "14. 6\n",
       "15. 29\n",
       "16. 11\n",
       "17. 17\n",
       "18. 36\n",
       "19. 7\n",
       "20. 9\n",
       "\n",
       "\n"
      ],
      "text/plain": [
       " [1] 49  3 46 30 27 43 47 41 25 49 49  6 10  6 29 11 17 36  7  9"
      ]
     },
     "metadata": {},
     "output_type": "display_data"
    }
   ],
   "source": [
    "#Visualizando os 20 primeiros resultados\n",
    "head(dados, 20)"
   ]
  },
  {
   "cell_type": "markdown",
   "id": "f2abb35a",
   "metadata": {},
   "source": [
    "### Média: Representa a soma de todos os valores do conjunto de dados dividida pela quantidade de valores. É a medida de tendência central mais comum."
   ]
  },
  {
   "cell_type": "code",
   "execution_count": 3,
   "id": "2949ed90",
   "metadata": {},
   "outputs": [
    {
     "data": {
      "text/html": [
       "25.74"
      ],
      "text/latex": [
       "25.74"
      ],
      "text/markdown": [
       "25.74"
      ],
      "text/plain": [
       "[1] 25.74"
      ]
     },
     "metadata": {},
     "output_type": "display_data"
    }
   ],
   "source": [
    "#Calculo da média\n",
    "mean(dados)"
   ]
  },
  {
   "cell_type": "code",
   "execution_count": 4,
   "id": "b1900386",
   "metadata": {},
   "outputs": [
    {
     "name": "stderr",
     "output_type": "stream",
     "text": [
      "Warning message:\n",
      "\"package 'DescTools' was built under R version 4.2.3\"\n"
     ]
    }
   ],
   "source": [
    "# Importando a biblioteca DescTools para verifica a moda dos dados\n",
    "library(DescTools)"
   ]
  },
  {
   "cell_type": "markdown",
   "id": "433060fa",
   "metadata": {},
   "source": [
    "### Moda: É o valor ou valores mais frequentes em um conjunto de dados. Um conjunto de dados pode ter uma moda (unimodal), duas modas (bimodal) ou várias modas (multimodal)."
   ]
  },
  {
   "cell_type": "code",
   "execution_count": 5,
   "id": "576337eb",
   "metadata": {},
   "outputs": [
    {
     "data": {
      "text/html": [
       "47"
      ],
      "text/latex": [
       "47"
      ],
      "text/markdown": [
       "47"
      ],
      "text/plain": [
       "[1] 47\n",
       "attr(,\"freq\")\n",
       "[1] 27"
      ]
     },
     "metadata": {},
     "output_type": "display_data"
    }
   ],
   "source": [
    "#Verificando a moda.\n",
    "Mode(dados)"
   ]
  },
  {
   "cell_type": "markdown",
   "id": "b739480e",
   "metadata": {},
   "source": [
    "### Mediana: É o valor que divide o conjunto de dados em duas partes iguais quando os dados estão ordenados. Se houver um número ímpar de observações, é o valor central; se houver um número par de observações, é a média dos dois valores centrais.\n",
    "- A mediana é uma medida de tendência central que é menos sensível a valores extremos (outliers) do que a média aritmética. Quando calculamos a mediana, 50% dos valores são maiores do que a mediana e 50% dos valores são menores do que a mediana."
   ]
  },
  {
   "cell_type": "code",
   "execution_count": 6,
   "id": "5eec4b53",
   "metadata": {},
   "outputs": [
    {
     "data": {
      "text/html": [
       "26"
      ],
      "text/latex": [
       "26"
      ],
      "text/markdown": [
       "26"
      ],
      "text/plain": [
       "[1] 26"
      ]
     },
     "metadata": {},
     "output_type": "display_data"
    }
   ],
   "source": [
    "median(dados)"
   ]
  },
  {
   "cell_type": "markdown",
   "id": "332f0f69",
   "metadata": {},
   "source": [
    "### Valor Máximo: É o maior valor em um conjunto de dados.\n",
    "\n",
    "### Valor Mínimo: É o menor valor em um conjunto de dados."
   ]
  },
  {
   "cell_type": "code",
   "execution_count": 7,
   "id": "c2ecf5e3",
   "metadata": {},
   "outputs": [
    {
     "data": {
      "text/html": [
       "<style>\n",
       ".list-inline {list-style: none; margin:0; padding: 0}\n",
       ".list-inline>li {display: inline-block}\n",
       ".list-inline>li:not(:last-child)::after {content: \"\\00b7\"; padding: 0 .5ex}\n",
       "</style>\n",
       "<ol class=list-inline><li>1</li><li>50</li></ol>\n"
      ],
      "text/latex": [
       "\\begin{enumerate*}\n",
       "\\item 1\n",
       "\\item 50\n",
       "\\end{enumerate*}\n"
      ],
      "text/markdown": [
       "1. 1\n",
       "2. 50\n",
       "\n",
       "\n"
      ],
      "text/plain": [
       "[1]  1 50"
      ]
     },
     "metadata": {},
     "output_type": "display_data"
    }
   ],
   "source": [
    "#Valor máximo e mínimo\n",
    "range(dados)"
   ]
  },
  {
   "cell_type": "markdown",
   "id": "a8fa56eb",
   "metadata": {},
   "source": [
    "### Amplitude: É a diferença entre o maior e o menor valor em um conjunto de dados, fornecendo uma noção da variação total dos dados."
   ]
  },
  {
   "cell_type": "code",
   "execution_count": 8,
   "id": "91091fe9",
   "metadata": {},
   "outputs": [
    {
     "data": {
      "text/html": [
       "49"
      ],
      "text/latex": [
       "49"
      ],
      "text/markdown": [
       "49"
      ],
      "text/plain": [
       "[1] 49"
      ]
     },
     "metadata": {},
     "output_type": "display_data"
    }
   ],
   "source": [
    "#Amplitude dos valores\n",
    "diff(range(dados))"
   ]
  },
  {
   "cell_type": "markdown",
   "id": "01834685",
   "metadata": {},
   "source": [
    "###  Quantis empíricos: Os quantis empíricos, ou quantis amostrais, são medidas de posição que dividem uma amostra de dados ordenados em partes iguais. Eles são uma extensão da ideia de mediana (que divide os dados em 50% acima e 50% abaixo). Os quantis são frequentemente usados para entender a distribuição dos dados, identificar outliers ou comparar distribuições. Aqui estão os quantis mais comuns:\n",
    "- **Quartis:** dividem os dados em quatro partes iguais. O primeiro quartil (Q1) é o valor que tem 25% dos dados abaixo dele; o segundo quartil (Q2) é a mediana, com 50% dos dados abaixo; e o terceiro quartil (Q3) tem 75% dos dados abaixo dele.\n",
    "- **Decis:** dividem os dados em dez partes iguais.\n",
    "- **Percentis:** dividem os dados em cem partes iguais. Por exemplo, o 20º percentil é o valor abaixo do qual se encontram 20% dos dados.\n",
    "---\n",
    "\n",
    "#### Quartis:\n",
    "- Os quartis são valores que dividem os dados em quatro partes iguais, representando o primeiro quartil (Q1=245%), o segundo quartil (Q2, que é a mediana, 50%), e o terceiro quartil (Q3=75%).\n",
    "- **Primeiro Quartil (Q1):** Também conhecido como quartil 25% ou percentil 25%, Q1 é o valor que divide o conjunto de dados em 25% inferior e 75% superior. Isso significa que 25% dos dados estão abaixo de Q1 e 75% dos dados estão acima de Q1. No diagrama de caixa é a primeira linha da caixa.\n",
    "- **Segundo Quartil (Q2):** O segundo quartil, que é a mediana, divide o conjunto de dados em 50% inferior e 50% superior. Isso significa que metade dos dados estão abaixo de Q2 e metade está acima de Q2. E a linha do meio do diagrama de caixa.\n",
    "- **Terceiro Quartil (Q3):** Também conhecido como quartil 75% ou percentil 75%, Q3 é o valor que divide o conjunto de dados em 75% inferior e 25% superior. Isso significa que 75% dos dados estão abaixo de Q3 e 25% dos dados estão acima de Q3. No diagrama de caixa é a terceira linha da caixa.\n",
    "- **Valor mínimo NÃO DISCREPANTE é representado 'bigode inferior'.**\n",
    "- **Valor máximo NÃO DISCREPANTE é representado pelo 'bigode superior'.**"
   ]
  },
  {
   "cell_type": "code",
   "execution_count": 9,
   "id": "279f61df",
   "metadata": {},
   "outputs": [
    {
     "data": {
      "text/plain": [
       "   Min. 1st Qu.  Median    Mean 3rd Qu.    Max. \n",
       "   1.00   13.00   26.00   25.74   38.00   50.00 "
      ]
     },
     "metadata": {},
     "output_type": "display_data"
    }
   ],
   "source": [
    "#Resumo estatístico dos dados, visualização dos quartis, média e valores mínimo e máximo:\n",
    "summary(dados)"
   ]
  },
  {
   "cell_type": "code",
   "execution_count": 10,
   "id": "36bd20c0",
   "metadata": {},
   "outputs": [
    {
     "data": {
      "image/png": "[encoded data removed]",
      "text/plain": [
       "plot without title"
      ]
     },
     "metadata": {
      "image/png": {
       "height": 420,
       "width": 420
      }
     },
     "output_type": "display_data"
    }
   ],
   "source": [
    "# Representação gráfico dos quartis e dos 'bigodes'\n",
    "boxplot(dados, horizontal = TRUE)"
   ]
  },
  {
   "cell_type": "markdown",
   "id": "9b7266cd",
   "metadata": {},
   "source": [
    "- **Limite Inferior:** O limite inferior em um boxplot é calculado como Q1 (primeiro quartil) - 1,5 * IQR (Intervalo Interquartil). Ele é representado por uma linha que estabelece o limite inferior além do qual um valor é considerado um valor atípico (outlier). Qualquer valor abaixo do limite inferior é considerado um possível outlier.\n",
    "- **Limite Superior:** O limite superior em um boxplot é calculado como Q3 (terceiro quartil) + 1,5 * IQR (Intervalo Interquartil). Ele estabelece o limite superior além do qual um valor é considerado um valor atípico. Qualquer valor acima do limite superior é considerado um possível outlier e é frequentemente representado como um ponto no gráfico de boxplot.\n",
    "\n",
    "Os valores dos limites podem ser calculados da seguinte maneira:"
   ]
  },
  {
   "cell_type": "code",
   "execution_count": 11,
   "id": "56603a83",
   "metadata": {},
   "outputs": [
    {
     "data": {
      "text/html": [
       "<table class=\"dataframe\">\n",
       "<caption>A data.frame: 5 × 1</caption>\n",
       "<thead>\n",
       "\t<tr><th></th><th scope=col>quantile.dados.</th></tr>\n",
       "\t<tr><th></th><th scope=col>&lt;dbl&gt;</th></tr>\n",
       "</thead>\n",
       "<tbody>\n",
       "\t<tr><th scope=row>0%</th><td> 1</td></tr>\n",
       "\t<tr><th scope=row>25%</th><td>13</td></tr>\n",
       "\t<tr><th scope=row>50%</th><td>26</td></tr>\n",
       "\t<tr><th scope=row>75%</th><td>38</td></tr>\n",
       "\t<tr><th scope=row>100%</th><td>50</td></tr>\n",
       "</tbody>\n",
       "</table>\n"
      ],
      "text/latex": [
       "A data.frame: 5 × 1\n",
       "\\begin{tabular}{r|l}\n",
       "  & quantile.dados.\\\\\n",
       "  & <dbl>\\\\\n",
       "\\hline\n",
       "\t0\\% &  1\\\\\n",
       "\t25\\% & 13\\\\\n",
       "\t50\\% & 26\\\\\n",
       "\t75\\% & 38\\\\\n",
       "\t100\\% & 50\\\\\n",
       "\\end{tabular}\n"
      ],
      "text/markdown": [
       "\n",
       "A data.frame: 5 × 1\n",
       "\n",
       "| <!--/--> | quantile.dados. &lt;dbl&gt; |\n",
       "|---|---|\n",
       "| 0% |  1 |\n",
       "| 25% | 13 |\n",
       "| 50% | 26 |\n",
       "| 75% | 38 |\n",
       "| 100% | 50 |\n",
       "\n"
      ],
      "text/plain": [
       "     quantile.dados.\n",
       "0%    1             \n",
       "25%  13             \n",
       "50%  26             \n",
       "75%  38             \n",
       "100% 50             "
      ]
     },
     "metadata": {},
     "output_type": "display_data"
    }
   ],
   "source": [
    "quartis <- data.frame(quantile(dados))\n",
    "quartis"
   ]
  },
  {
   "cell_type": "code",
   "execution_count": 12,
   "id": "32f13ada",
   "metadata": {},
   "outputs": [
    {
     "data": {
      "text/html": [
       "-24.5"
      ],
      "text/latex": [
       "-24.5"
      ],
      "text/markdown": [
       "-24.5"
      ],
      "text/plain": [
       "[1] -24.5"
      ]
     },
     "metadata": {},
     "output_type": "display_data"
    },
    {
     "data": {
      "text/html": [
       "75.5"
      ],
      "text/latex": [
       "75.5"
      ],
      "text/markdown": [
       "75.5"
      ],
      "text/plain": [
       "[1] 75.5"
      ]
     },
     "metadata": {},
     "output_type": "display_data"
    }
   ],
   "source": [
    "quartis[2,] - 1.5 * IQR(dados)  # acessando linha 2, há somente uma coluna\n",
    "quartis[4,] + 1.5 * IQR(dados)  # Linha 4, há somente uma coluna"
   ]
  },
  {
   "cell_type": "markdown",
   "id": "98f9a5e5",
   "metadata": {},
   "source": [
    "**O IQR(Intervalo Interquartil) é uma medida que representa a diferença entre o terceiro quartil (Q3) e o primeiro quartil (Q1).**"
   ]
  },
  {
   "cell_type": "code",
   "execution_count": 13,
   "id": "5eb6fdc2",
   "metadata": {},
   "outputs": [
    {
     "data": {
      "text/html": [
       "25"
      ],
      "text/latex": [
       "25"
      ],
      "text/markdown": [
       "25"
      ],
      "text/plain": [
       "[1] 25"
      ]
     },
     "metadata": {},
     "output_type": "display_data"
    }
   ],
   "source": [
    "IQR(dados)"
   ]
  },
  {
   "cell_type": "markdown",
   "id": "29fd423f",
   "metadata": {},
   "source": [
    "#### Decis:\n",
    "- Os decis são pontos de corte em uma distribuição de dados que a dividem em dez partes iguais.\n",
    "    - 1º Decil (D1): 10% dos dados estão abaixo deste valor.\n",
    "    - 2º Decil (D2): 20% dos dados estão abaixo deste valor.\n",
    "    - 3º Decil (D3): 30% dos dados estão abaixo deste valor.\n",
    "    - 4º Decil (D4): 40% dos dados estão abaixo deste valor.\n",
    "    - 5º Decil (D5): 50% dos dados estão abaixo deste valor e corresponde à mediana.\n",
    "    - 6º Decil (D6): 60% dos dados estão abaixo deste valor.\n",
    "    - 7º Decil (D7): 70% dos dados estão abaixo deste valor.\n",
    "    - 8º Decil (D8): 80% dos dados estão abaixo deste valor.\n",
    "    - 9º Decil (D9): 90% dos dados estão abaixo deste valor.\n",
    "    \n",
    "- Os decis são úteis quando precisamos entender a distribuição dos dados além da mediana. Eles nos dão uma visão mais granular do que os quartis, permitindo uma análise mais fina dos dados"
   ]
  },
  {
   "cell_type": "code",
   "execution_count": 14,
   "id": "0a7ead9b",
   "metadata": {},
   "outputs": [
    {
     "data": {
      "text/html": [
       "<strong>20%:</strong> 10.8"
      ],
      "text/latex": [
       "\\textbf{20\\textbackslash{}\\%:} 10.8"
      ],
      "text/markdown": [
       "**20%:** 10.8"
      ],
      "text/plain": [
       " 20% \n",
       "10.8 "
      ]
     },
     "metadata": {},
     "output_type": "display_data"
    }
   ],
   "source": [
    "# Calculando o 2º Decil (20%)\n",
    "quantile(dados, probs = 0.2)"
   ]
  },
  {
   "cell_type": "markdown",
   "id": "53d4e3ff",
   "metadata": {},
   "source": [
    "Este comando retorna o valor de corte que delimita os 20% inferiores dos dados do conjunto dos 80% superiores. Isso significa que 20% dos valores são iguais ou menores que o valor de acima e 80% são iguais ou maiores.\n",
    "\n",
    "---\n",
    "#### Percentis:\n",
    "- Os percentis são medidas estatísticas que dividem a distribuição de uma variável em 100 partes iguais. Cada percentil indica a percentagem de valores na distribuição de dados que está abaixo dele. São particularmente úteis para compreender a dispersão e a distribuição dos dados, e são frequentemente utilizados para relatar a posição de um valor em relação ao resto do conjunto de dados."
   ]
  },
  {
   "cell_type": "code",
   "execution_count": 15,
   "id": "f1d31bbb",
   "metadata": {},
   "outputs": [
    {
     "data": {
      "text/html": [
       "<strong>32%:</strong> 17"
      ],
      "text/latex": [
       "\\textbf{32\\textbackslash{}\\%:} 17"
      ],
      "text/markdown": [
       "**32%:** 17"
      ],
      "text/plain": [
       "32% \n",
       " 17 "
      ]
     },
     "metadata": {},
     "output_type": "display_data"
    }
   ],
   "source": [
    "# Calculando o Percentil 32\n",
    "quantile(dados, probs = 0.32)"
   ]
  },
  {
   "attachments": {
    "image.png": {
     "image/png": "[encoded data removed]"
    }
   },
   "cell_type": "markdown",
   "id": "71677d1c",
   "metadata": {},
   "source": [
    "Isso significa que 32% dos dados em seu conjunto de valores estão abaixo do resultado acima, e consequentemente, 68% dos dados estão acima desse valor. \n",
    "\n",
    "--- \n",
    "## Medidas de Dispersão\n",
    "\n",
    "### Variância\n",
    "- A variância é uma medida estatística que descreve o grau de dispersão ou variabilidade em um conjunto de dados. Ela nos ajuda a entender quão longe os valores individuais estão da média do conjunto de dados. Quanto maior a variância, mais dispersos estão os dados em relação à média, e quanto menor a variância, mais próximos os dados estão da média.\n",
    "\n",
    "A fórmula da variância é dada por:\n",
    "\n",
    "Variância(σ2)= ∑(Xi−μ)² / N\n",
    "\n",
    "- **Onde:**\n",
    "    - σ² é a variância;\n",
    "    - Xi representa cada valor no conjunto de dados; μ é a média dos valores;\n",
    "    - ∑ representa a soma dos quadrados dos desvios dos valores Xi em relação à média µ. N é o número de valores no conjunto de dados;\n",
    "\n",
    "**Quando medimos a diferença entre a média de uma amostra e um valor individual (Xi - X), ao final, a soma das dos desvios será igual 0, para corrigir este problema calculamos o quadrado de cada desvio. Desta forma, a razão pela qual os desvios são elevados ao quadrado na fórmula da variância é para evitar que os desvios positivos e negativos se anulem.**\n",
    "\n",
    "Abaixo está como é calculado a variância:\n",
    "- Assumimos uma média igual a 5:\n",
    "\n",
    "![image.png](attachment:image.png)\n",
    "\n",
    "- A soma dos quadrados dos desvios é 32, e como temos 8 valores, **a variância da população** seria: 32/8 = 4\n",
    "- Para a **variância da amostra**, dividimos pelo número de dados menos um: 32/(8-1 )= 4.57"
   ]
  },
  {
   "cell_type": "code",
   "execution_count": 16,
   "id": "9e7139aa",
   "metadata": {},
   "outputs": [
    {
     "data": {
      "text/html": [
       "208.999399399399"
      ],
      "text/latex": [
       "208.999399399399"
      ],
      "text/markdown": [
       "208.999399399399"
      ],
      "text/plain": [
       "[1] 208.9994"
      ]
     },
     "metadata": {},
     "output_type": "display_data"
    }
   ],
   "source": [
    "var(dados)"
   ]
  },
  {
   "cell_type": "markdown",
   "id": "277b25e6",
   "metadata": {},
   "source": [
    "### Desvio Padrão\n",
    "- É apenas a raiz quadrada da variância: \n",
    "    - Como mencionado anteriormente, a variância é medida em unidades ao quadrado, o que a torna menos intuitiva. Para obter uma medida mais interpretável, é comum calcular o desvio padrão, que é a raiz quadrada da variância. O desvio padrão tem as mesmas unidades que os dados originais e é uma medida que quantifica a dispersão dos dados de uma maneira mais compreensível."
   ]
  },
  {
   "cell_type": "code",
   "execution_count": 17,
   "id": "580f1ba8",
   "metadata": {},
   "outputs": [
    {
     "data": {
      "text/html": [
       "14.4568115225799"
      ],
      "text/latex": [
       "14.4568115225799"
      ],
      "text/markdown": [
       "14.4568115225799"
      ],
      "text/plain": [
       "[1] 14.45681"
      ]
     },
     "metadata": {},
     "output_type": "display_data"
    }
   ],
   "source": [
    "sd(dados)"
   ]
  },
  {
   "cell_type": "markdown",
   "id": "19792062",
   "metadata": {},
   "source": [
    "### Correção de Bessel\n",
    "- A correção de Bessel é a prática de ajustar a estimativa da variância amostral usando N−1 graus de liberdade em vez de N, onde N é o tamanho da amostra. Ela é usada para estimar a variabilidade da população com base em uma amostra, tornando a estimativa menos enviesada.\n",
    "- Isto acorre porque a amostras tendem a ser valores no meio da população, especialmente em distribuições normais, assim a variabilidade destas amostras será menor do que a variabilidade da população inteira.\n",
    "- Desta forma, ao usarmos N-1 nas fórmulas da variância da amostra ou do desvio padrão da amostra, diminuímos o valor do denominador, tornando o resultado da variância ou do desvio padrão maior e mais representativo da população.\n",
    "- Em R, quando você usa a função var() ou sd(), é aplicado por padrão a correção de Bessel, que utiliza N−1 no denominador para calcular a variância e o desvio padrão amostral."
   ]
  },
  {
   "cell_type": "code",
   "execution_count": 18,
   "id": "ae19bdac",
   "metadata": {},
   "outputs": [
    {
     "data": {
      "text/html": [
       "208.7904"
      ],
      "text/latex": [
       "208.7904"
      ],
      "text/markdown": [
       "208.7904"
      ],
      "text/plain": [
       "[1] 208.7904"
      ]
     },
     "metadata": {},
     "output_type": "display_data"
    }
   ],
   "source": [
    "# Para calcular a variância populacional em R, você pode usar a função var() e depois multiplicar o resultado pela razão \n",
    "# (N-1)/N, onde N é o Tamanho da amostra\n",
    "N <- length(dados)  # Tamanho da amostra\n",
    "var(dados) * (N-1)/N"
   ]
  },
  {
   "cell_type": "code",
   "execution_count": 19,
   "id": "b01ae0d2",
   "metadata": {},
   "outputs": [],
   "source": [
    "#É possível criar uma função para calculo da variância populacional \n",
    "\n",
    "var.p <-function(x)\n",
    "    {N <- length(x) \n",
    "var_pop <- var(x) * (N-1)/N\n",
    "      return(var_pop)\n",
    "}\n",
    "     "
   ]
  },
  {
   "cell_type": "code",
   "execution_count": 20,
   "id": "e7b4f2c5",
   "metadata": {},
   "outputs": [
    {
     "data": {
      "text/html": [
       "208.7904"
      ],
      "text/latex": [
       "208.7904"
      ],
      "text/markdown": [
       "208.7904"
      ],
      "text/plain": [
       "[1] 208.7904"
      ]
     },
     "metadata": {},
     "output_type": "display_data"
    }
   ],
   "source": [
    "var.p(dados)"
   ]
  },
  {
   "cell_type": "code",
   "execution_count": 21,
   "id": "b33dbf4f",
   "metadata": {},
   "outputs": [
    {
     "data": {
      "text/html": [
       "14.4495813088131"
      ],
      "text/latex": [
       "14.4495813088131"
      ],
      "text/markdown": [
       "14.4495813088131"
      ],
      "text/plain": [
       "[1] 14.44958"
      ]
     },
     "metadata": {},
     "output_type": "display_data"
    }
   ],
   "source": [
    "#Desvio padrão populacional\n",
    "sqrt(var(dados) * (N-1)/N)"
   ]
  },
  {
   "cell_type": "code",
   "execution_count": 22,
   "id": "bd79ffc4",
   "metadata": {},
   "outputs": [],
   "source": [
    "#Também podemos criar uma função para o cálculo do desvio padrão populacional\n",
    "\n",
    "sd.p <- function(x)\n",
    "    {N <- length(x)\n",
    "var_pop <-var(x) * (N-1)/N\n",
    "sd_pop <- sqrt(var_pop)\n",
    "    return(sd_pop)}"
   ]
  },
  {
   "cell_type": "code",
   "execution_count": 23,
   "id": "4272faac",
   "metadata": {},
   "outputs": [
    {
     "data": {
      "text/html": [
       "14.4495813088131"
      ],
      "text/latex": [
       "14.4495813088131"
      ],
      "text/markdown": [
       "14.4495813088131"
      ],
      "text/plain": [
       "[1] 14.44958"
      ]
     },
     "metadata": {},
     "output_type": "display_data"
    }
   ],
   "source": [
    "sd.p(dados)"
   ]
  },
  {
   "cell_type": "markdown",
   "id": "1a25353e",
   "metadata": {},
   "source": [
    "### Coeficiente de Variação:\n",
    "- O coeficiente de variação (CV) é uma medida estatística que expressa a variabilidade de um conjunto de dados como uma porcentagem da média. Ele é usado para avaliar a dispersão relativa dos dados e é especialmente útil ao comparar a variabilidade entre conjuntos de dados com médias diferentes. O CV é uma medida de variabilidade relativa, normalizando a variância pelo valor médio.\n",
    "- A fórmula para calcular o coeficiente de variação é a seguinte:\n",
    "CV=(σ/μ)×100%\n",
    "\n",
    "- **Onde:**\n",
    "    - CV é o coeficiente de variação;\n",
    "    - σ é o desvio padrão (pode ser o desvio padrão amostral ou populacional);\n",
    "    - μ é a média dos dados."
   ]
  },
  {
   "cell_type": "code",
   "execution_count": 24,
   "id": "670d73b6",
   "metadata": {},
   "outputs": [
    {
     "data": {
      "text/html": [
       "56.1647689299919"
      ],
      "text/latex": [
       "56.1647689299919"
      ],
      "text/markdown": [
       "56.1647689299919"
      ],
      "text/plain": [
       "[1] 56.16477"
      ]
     },
     "metadata": {},
     "output_type": "display_data"
    }
   ],
   "source": [
    "# Vamos novamente utilizar a biblioteca DescTools para cálculo do cv:\n",
    "CoefVar(dados)*100"
   ]
  },
  {
   "cell_type": "markdown",
   "id": "1887a2c1",
   "metadata": {},
   "source": [
    "### Coeficiente de Assimetria:\n",
    "- O coeficiente de assimetria, também conhecido como skewness, é uma medida estatística que descreve a assimetria na distribuição de probabilidade de um conjunto de dados reais. Diferentemente das medidas de tendência central e dispersão, como a média e o desvio padrão, o coeficiente de assimetria foca em capturar a forma da distribuição, especificamente o grau de inclinação ou desequilíbrio da distribuição em relação à sua média. Pode ser calculado com a seguinte fórmula:\n",
    "\n",
    "S= 3(μ−M)/σ\n",
    "\n",
    "- **Onde:**\n",
    "    - S é a medida de assimetria.\n",
    "    - μ é a média da amostra.\n",
    "    - M é a mediana da amostra.\n",
    "    - σ é o desvio padrão da amostra.\n",
    "\n",
    "- S>0, a distribuição é assimétrica positiva (inclinada para a direita);\n",
    "- S<0, a distribuição é assimétrica negativa (inclinada para a esquerda);\n",
    "- S=0, a distribuição é simétrica."
   ]
  },
  {
   "cell_type": "code",
   "execution_count": 25,
   "id": "d2f4fb3e",
   "metadata": {},
   "outputs": [],
   "source": [
    "# Gerando uma massa de dados com uma distribuição normal em R\n",
    "dados1 <- rnorm(1000, mean = 0, sd = 1)"
   ]
  },
  {
   "cell_type": "code",
   "execution_count": 26,
   "id": "d128352c",
   "metadata": {},
   "outputs": [],
   "source": [
    "# Fornece funções para calcular momentos estatísticos, como média, variância, assimetria e curtose, de uma amostra de dados.\n",
    "library(moments)"
   ]
  },
  {
   "cell_type": "code",
   "execution_count": 27,
   "id": "49ac4bcd",
   "metadata": {},
   "outputs": [
    {
     "data": {
      "image/png": "[encoded data removed]",
      "text/plain": [
       "Plot with title \"Histogram of dados1\""
      ]
     },
     "metadata": {
      "image/png": {
       "height": 420,
       "width": 420
      }
     },
     "output_type": "display_data"
    }
   ],
   "source": [
    "#Verificando a distribuição dos dados\n",
    "hist(dados1)"
   ]
  },
  {
   "cell_type": "markdown",
   "id": "e9937c76",
   "metadata": {},
   "source": [
    "**Histogramas são uma ferramenta gráfica que exibe a distribuição de dados ao longo de intervalos contínuos ou classes (chamados de \"bins\" ou \"intervalos\") em um eixo horizontal, com a contagem (ou densidade) de observações em cada classe representada no eixo vertical. São extremamentes úteis para verificar a distribuição dos dados.**\n",
    "\n",
    "- Verificando o coeficiente de assimetria"
   ]
  },
  {
   "cell_type": "code",
   "execution_count": 28,
   "id": "66decd17",
   "metadata": {},
   "outputs": [
    {
     "data": {
      "text/html": [
       "0.0423722074747265"
      ],
      "text/latex": [
       "0.0423722074747265"
      ],
      "text/markdown": [
       "0.0423722074747265"
      ],
      "text/plain": [
       "[1] 0.04237221"
      ]
     },
     "metadata": {},
     "output_type": "display_data"
    }
   ],
   "source": [
    "skewness(dados1)"
   ]
  },
  {
   "attachments": {
    "image-3.png": {
     "image/png": "[encoded data removed]"
    },
    "image-4.png": {
     "image/png": "[encoded data removed]"
    },
    "image-5.png": {
     "image/png": "[encoded data removed]"
    }
   },
   "cell_type": "markdown",
   "id": "aa40756a",
   "metadata": {},
   "source": [
    "**Se o coeficiente de assimetria for igual a 0, a distribuição é simétrica. Isso significa que os valores estão igualmente distribuídos em ambos os lados da média, e a curva da distribuição terá uma forma aproximadamente em sino.**\n",
    "\n",
    "![image-3.png](attachment:image-3.png)\n",
    "\n",
    "\n",
    "**Se o coeficiente de assimetria for maior que 0, a distribuição é assimétrica positiva (à direita). Isso indica que a cauda direita da distribuição é mais longa, e a maioria dos valores está concentrada à esquerda da média.**\n",
    "\n",
    "![image-4.png](attachment:image-4.png)\n",
    "\n",
    "**Se o coeficiente de assimetria for menor que 0, a distribuição é assimétrica negativa (à esquerda). Isso indica que a cauda esquerda da distribuição é mais longa, e a maioria dos valores está concentrada à direita da média.**\n",
    "\n",
    "![image-5.png](attachment:image-5.png)\n"
   ]
  }
 ],
 "metadata": {
  "kernelspec": {
   "display_name": "R",
   "language": "R",
   "name": "ir"
  },
  "language_info": {
   "codemirror_mode": "r",
   "file_extension": ".r",
   "mimetype": "text/x-r-source",
   "name": "R",
   "pygments_lexer": "r",
   "version": "4.2.2"
  }
 },
 "nbformat": 4,
 "nbformat_minor": 5
}
