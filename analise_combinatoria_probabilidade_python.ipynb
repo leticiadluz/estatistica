{
 "cells": [
  {
   "cell_type": "markdown",
   "id": "2498d2ce",
   "metadata": {},
   "source": [
    "# 1 - Análise Combinatória\n",
    "\n",
    "##  1.1 Princípio Fundamental da Contagem\n",
    "\n",
    "#### O Princípio Fundamental da Contagem é um conceito fundamental em análise combinatória que é usado para determinar o número total de maneiras de realizar uma série de eventos sucessivos ou independentes. Em termos simples, ele afirma que se uma tarefa pode ser realizada em m maneiras diferentes e outra tarefa independente dela pode ser realizada em n maneiras diferentes, então o número total de maneiras de realizar ambas as tarefas é o produto m x n.\n",
    "\n",
    "- Exemplo 1:\n",
    "    - Um restaurante oferece 2 tipos de entradas, 3 tipos de pratos principais e 2 tipos de sobremesas. Quantos menus diferentes podem ser montados para uma refeição com uma entrada, um prato principal e uma sobremesa? Pelo Princípio Fundamental da Contagem: 2 ⨉ 3 ⨉ 2 = 12 menus possíveis.\n",
    "    \n",
    "    \n",
    "**1- Quantos números de 4 algorismo distintos podemos formar?**\n",
    "- Existem 10 algorismo: 0,1,2,3,4,5,6,7,8 e 9\n",
    "- O primeiro algorismo tem 9 elementos:1 ao 9, não podemos considerar 0, uma vez que ele implicaria em formar apenas 3 algorismos;\n",
    "- O segundo algorismo também tem 9 elementos: como ele pede algorismo distinto, uma opção já foi utilizada;\n",
    "- O terceiro algorismo tem 8 elementos: como ele pede algorismo distinto, duas opções já foram utilizadas;\n",
    "- O terceiro algorismo tem 8 7lementos: como ele pede algorismo distinto, três opções já foram utilizadas;"
   ]
  },
  {
   "cell_type": "code",
   "execution_count": 1,
   "id": "349c3400",
   "metadata": {},
   "outputs": [
    {
     "data": {
      "text/plain": [
       "4536"
      ]
     },
     "execution_count": 1,
     "metadata": {},
     "output_type": "execute_result"
    }
   ],
   "source": [
    "resposta_1 = 9*9*8*7\n",
    "resposta_1"
   ]
  },
  {
   "cell_type": "markdown",
   "id": "a3d50ac9",
   "metadata": {},
   "source": [
    "**2 - Quantos números ímpares podemos formar usando uma  única vez um dos algorismos: 3,4,7,8 e 9?**\n",
    "- Temos 5 ordens numéricas;\n",
    "- Para ser um número impar, precisa terminar em 1,3,5, 7 ou 9, porém só podemos ter o número: 3,7 e 9\n",
    "- Para unidade, temos 3 opções;\n",
    "- Para dezena, sobrou 4 opções, utilizei uma na unidade;\n",
    "- Para centena, sobrou 3 opções;\n",
    "- Para milhar, sobrou 2 opções;\n",
    "- Para dezena de milhar 1 opção;"
   ]
  },
  {
   "cell_type": "code",
   "execution_count": 2,
   "id": "b1e65e6c",
   "metadata": {},
   "outputs": [
    {
     "data": {
      "text/plain": [
       "72"
      ]
     },
     "execution_count": 2,
     "metadata": {},
     "output_type": "execute_result"
    }
   ],
   "source": [
    "resposta_2 = 1*2*3*4*3\n",
    "resposta_2"
   ]
  },
  {
   "cell_type": "markdown",
   "id": "ebff5c1d",
   "metadata": {},
   "source": [
    "## 1.2 - Fatorial\n",
    "\n",
    "#### O fatorial de um número n, representado por n!, é a multiplicação de n por todos os seus antecessores maiores ou iguais a 1.\n",
    "- Por exemplo, o fatorial de 4 é calculado como: 4! = 4 ⨉ 3 ⨉ 2 ⨉ 1 = 24.\n",
    "- O fatorial é usado para simplificar cálculos em problemas que envolvem contagem, como arranjos, permutações e combinações.\n",
    "- Ele é especialmente útil na análise combinatória, onde determinamos o número de maneiras de organizar elementos.\n",
    "\n",
    "**1 - Qual fatorial de 5?**"
   ]
  },
  {
   "cell_type": "code",
   "execution_count": 3,
   "id": "02663600",
   "metadata": {},
   "outputs": [
    {
     "name": "stdout",
     "output_type": "stream",
     "text": [
      "1\n",
      "2\n",
      "6\n",
      "24\n",
      "120\n"
     ]
    }
   ],
   "source": [
    "resultado = 1\n",
    "for elemento in range(1, 6): # Como queremos incluir o 5 no intervalo, colocamos o número 6. \n",
    "    resultado *= elemento\n",
    "    print(resultado)"
   ]
  },
  {
   "cell_type": "code",
   "execution_count": 4,
   "id": "11283e56",
   "metadata": {},
   "outputs": [
    {
     "data": {
      "text/plain": [
       "120"
      ]
     },
     "execution_count": 4,
     "metadata": {},
     "output_type": "execute_result"
    }
   ],
   "source": [
    "#Também podemos utilizar a biblioteca math\n",
    "import math\n",
    "math.factorial(5)"
   ]
  },
  {
   "cell_type": "markdown",
   "id": "f2a78c9b",
   "metadata": {},
   "source": [
    "## 1.3 - Permutação Simples\n",
    "\n",
    "#### A permutação simples é um conceito fundamental em combinatória que envolve a organização ou arranjo de elementos distintos em uma ordem específica. Em uma permutação simples, todos os elementos são considerados distintos e a ordem é importante. Por exemplo, considere as letras A, B e C. As permutações simples dessas letras seriam:\n",
    "- ABC\n",
    "- ACB\n",
    "- BAC\n",
    "- BCA\n",
    "- CAB\n",
    "- CBA\n",
    "\n",
    "#### Cada uma dessas permutações é uma reorganização das letras A, B e C, e a ordem em que elas são dispostas é importante. O número de permutações simples de n elementos é representado por n! (lê-se \"n fatorial\"). Ou seja, para  n elementos distintos, existem  n! maneiras de organizá-los em uma ordem específica. Neste caso, 3!= 6.\n",
    "\n",
    "**1 - De quantas maneiras diferentes podem ser dispostos em uma estante, lado a lado, 8 livros diferentes?**"
   ]
  },
  {
   "cell_type": "code",
   "execution_count": 5,
   "id": "cd79d622",
   "metadata": {},
   "outputs": [
    {
     "data": {
      "text/plain": [
       "40320"
      ]
     },
     "execution_count": 5,
     "metadata": {},
     "output_type": "execute_result"
    }
   ],
   "source": [
    "math.factorial(8)"
   ]
  },
  {
   "attachments": {
    "image.png": {
     "image/png": "[encoded data removed]"
    }
   },
   "cell_type": "markdown",
   "id": "d8134fee",
   "metadata": {},
   "source": [
    "## 1.4 - Permutações com repetições\n",
    "\n",
    "#### Permutações com repetição envolvem arranjos ordenados de elementos de um conjunto onde alguns elementos podem ser repetidos. Por exemplo, considere o conjunto {A, B, B}. As permutações com repetição deste conjunto seriam:\n",
    "- ABB\n",
    "- BAB\n",
    "- BBA\n",
    "#### Como você pode ver, há apenas 3 permutações únicas, embora haja 3 elementos no total. O número de permutações com repetição de um conjunto de n elementos, onde existem n1 elementos do tipo 1, n2  elementos do tipo 2, e assim por diante, é dado por:\n",
    "![image.png](attachment:image.png)\n",
    "#### Onde: \n",
    "- n! é o fatorial de n, que é o produto de todos os inteiros positivos de 1 a n. \n",
    "- n1!, n2!, nk! são os fatoriais das contagens de cada tipo de elemento repetido\n",
    "\n",
    "**1 - Qual a quantidade de arranjos de letras podemos formar com a palavra: 'Infinito'?**\n",
    "- Infinito possuí 8 letras, sendo 3 letras 'i' repetidas e 2 letras 'n' repetidas:\n",
    "\n",
    "- P8 = 8!/ 3! 2!\n",
    "- P8 = 8x7x5x4x3!/  3! 2! -> cortamos os dois 3!\n",
    "- P8 = 8x7x6x5x4x/  2!\n",
    "- P8 = 6720/2\n",
    "- P8 = 3360\n",
    "    "
   ]
  },
  {
   "cell_type": "code",
   "execution_count": 6,
   "id": "bdb3913c",
   "metadata": {},
   "outputs": [
    {
     "data": {
      "text/plain": [
       "3360.0"
      ]
     },
     "execution_count": 6,
     "metadata": {},
     "output_type": "execute_result"
    }
   ],
   "source": [
    "math.factorial(8) / (math.factorial(3) * math.factorial(2))"
   ]
  },
  {
   "attachments": {
    "image.png": {
     "image/png": "[encoded data removed]"
    }
   },
   "cell_type": "markdown",
   "id": "0b619f28",
   "metadata": {},
   "source": [
    "## 1.4 Arranjos Simples\n",
    "\n",
    "#### Em análise combinatória, arranjos são subconjuntos ordenados de elementos de um conjunto maior. A principal diferença entre arranjos e permutações é que nos arranjos consideramos apenas um número específico de elementos selecionados de um conjunto maior, enquanto nas permutações consideramos todos os elementos do conjunto. \n",
    "#### Nos arranjos sem repetição, selecionamos um número específico de elementos de um conjunto maior sem permitir repetições. O número de arranjos sem repetição de n elementos tomados k a cada vez é denotado por  A(n,k) ou nPk. A fórmula para calcular arranjos sem repetição é:\n",
    "![image.png](attachment:image.png)\n",
    "#### Onde:\n",
    "- n! é o fatorial de n;\n",
    "- (n-k) é o fatorial de n-k, ou seja, (n-k) x (n-k-1) X (n-k-2)...\n",
    "\n",
    "#### Obs.: Quando falamos de arranjo, estamos interessados também na ordem dos elementos;\n",
    "\n",
    "**1-Quantos números de 3 algorismos distintos podemos formar com os elementos do conjunto A={1,2,3,4,5}?**\n",
    "- A(5,3)= 5!/ (5-3)!\n",
    "- A(5,3)= 5!/ 2!\n",
    "- A(5,3)= 5 x 4 x 3 x 2! / 2! -> cortamos os dois 2!\n",
    "- A(5,3)= 5 x 4 x 3 \n",
    "- A(5,3)= 60"
   ]
  },
  {
   "cell_type": "code",
   "execution_count": 7,
   "id": "e09744ed",
   "metadata": {},
   "outputs": [
    {
     "data": {
      "text/plain": [
       "60.0"
      ]
     },
     "execution_count": 7,
     "metadata": {},
     "output_type": "execute_result"
    }
   ],
   "source": [
    "math.factorial(5) / math.factorial(5-3) "
   ]
  },
  {
   "attachments": {
    "image.png": {
     "image/png": "[encoded data removed]"
    }
   },
   "cell_type": "markdown",
   "id": "67dc6d30",
   "metadata": {},
   "source": [
    "## 1.5 Combinações Simples\n",
    "\n",
    "#### A combinação simples é um conceito fundamental na análise combinatória. A combinação simples é um dos agrupamentos estudados nessa área da matemática. Ela lida com a contagem de subconjuntos de (k) elementos que podemos formar a partir de um conjunto de (n) elementos. Na combinação, a ordem dos elementos não é importante. É comum aplicarmos a combinação em situações como cálculos de resultados possíveis em jogos de loteria, análises de probabilidade e estatística.\n",
    "![image.png](attachment:image.png)\n",
    "- C(n, k) representa o número de combinações.\n",
    "- (n) é o total de elementos no conjunto.\n",
    "- (k) é o número de elementos no subconjunto.\n",
    "\n",
    "**1-Um colégio tem 7 professores de matemática. Quatro deles deverão representar a escola em um congresso. Qunatos grupos de 4 professores podemos montar?**\n",
    "- C(n, k) = 7!/ 4!(7-4)!\n",
    "- C(n, k) = 7!/ 4! x 3!\n",
    "- C(n, k) = 7x6x5x4!/  4! x 3! -> cortamos os dois 4!\n",
    "- C(n, k) = 7x6x5/3!\n",
    "- C(n, k) = 210/6\n",
    "- C(n, k) = 35"
   ]
  },
  {
   "cell_type": "code",
   "execution_count": 8,
   "id": "5c4f337c",
   "metadata": {},
   "outputs": [
    {
     "data": {
      "text/plain": [
       "35.0"
      ]
     },
     "execution_count": 8,
     "metadata": {},
     "output_type": "execute_result"
    }
   ],
   "source": [
    "math.factorial(7) / (math.factorial(4) * math.factorial(7-4)) "
   ]
  },
  {
   "attachments": {
    "image.png": {
     "image/png": "[encoded data removed]"
    }
   },
   "cell_type": "markdown",
   "id": "6ef7063f",
   "metadata": {},
   "source": [
    "# 2 - Probabilidade\n",
    "\n",
    "### A probabilidade é uma medida numérica que quantifica a chance de que um evento específico ocorra. É uma forma de expressar a incerteza associada a um fenômeno aleatório. A probabilidade de um evento é geralmente expressa como um número entre 0 e 1, onde 0 indica impossibilidade e 1 indica certeza absoluta.\n",
    "\n",
    "### Espaço Amostral (Ω):O espaço amostral, denotado também por  S, é o conjunto de todos os resultados possíveis de um experimento aleatório. Em outras palavras, é o conjunto de todos os resultados que poderiam ocorrer em uma situação específica. Por exemplo, no lançamento de um dado, o espaço amostral seria o conjunto {1, 2, 3, 4, 5, 6}.\n",
    "\n",
    "### Evento: Um evento é um subconjunto do espaço amostral, ou seja, é um resultado ou conjunto de resultados de um experimento aleatório. Pode ser qualquer coleção de resultados possíveis, incluindo um único resultado, vários resultados ou até mesmo nenhum resultado. Um evento é denotado por uma letra maiúscula, como A, B, C, etc.\n",
    "\n",
    "### Há três regras fundamentais que governam a teoria da probabilidade e são amplamente utilizadas em diversos contextos. Vamos explorar cada uma delas com mais detalhes:\n",
    "- **A probabilidade de um evento ocorrer está entre 0 e 1:** Isso significa que a probabilidade de qualquer evento, E, está no intervalo fechado de 0 a 1, inclusive. Matematicamente, isso é expresso como 0≤P(E)≤1. Um valor de probabilidade de 0 indica que o evento é impossível, enquanto um valor de probabilidade de 1 indica que o evento é certo. Valores entre 0 e 1 indicam que o evento tem uma chance de ocorrer que varia de impossível a certo.\n",
    "- **A probabilidade de ocorrer o espaço amostral é 1:** O espaço amostral, representado por Ω, é o conjunto de todos os resultados possíveis de um experimento. A soma das probabilidades de todos os resultados possíveis de um experimento deve ser igual a 1. Isso significa que, quando você considera todas as possibilidades, é certo que pelo menos uma delas ocorrerá. Matematicamente, isso é expresso como P(Ω)=1.\n",
    "- **Probabilidade da União Disjunta (ou Mutuamente Exclusiva):** Se E1, E2,...,En são eventos mutuamente exclusivos (ou seja, não podem ocorrer ao mesmo tempo), então a probabilidade da união desses eventos é igual à soma das probabilidades individuais de cada evento. Matematicamente, isso é expresso como P(E1​∪E2​∪…∪En​)=P(E1​)+P(E2​)+…+P(En​).Isso significa que a probabilidade de que pelo menos um desses eventos ocorra é igual à soma das probabilidades de cada evento individual.\n",
    "\n",
    "Além disso, é importante notar que a probabilidade de que dois eventos ocorram nunca pode ser maior que a probabilidade de que cada evento ocorra individualmente. Em outras palavras, para quaisquer eventos A e B, a probabilidade da intersecção dos eventos \n",
    "A e B  (ou seja, ambos ocorrerem) é limitada superiormente pela probabilidade de A e B ocorrerem individualmente. Matematicamente, isso é expresso como P(A∩B)≤P(A) e P(A∩B)≤P(B).\n",
    "\n",
    "### Probabilidade de um Evento: A probabilidade de um evento, denotada por P(A), é a medida da chance de que o evento ocorra. A probabilidade de um evento é calculada dividindo o número de resultados favoráveis ao evento pelo número total de resultados possíveis no espaço amostral. Assim, a probabilidade de um evento A é dada por:\n",
    "![image.png](attachment:image.png)\n",
    "- Por exemplo, se lançarmos um dado justo, a probabilidade de obter um número par (evento A) é P(A) = 3/6 = 1/2, pois há 3 resultados favoráveis (2, 4, 6) e 6 resultados possíveis no espaço amostral.\n",
    "\n",
    "### Evento Complementar: O evento complementar de um evento A, denotado por A′ ou Ac, é o conjunto de todos os resultados do espaço amostral que não estão em A. Em outras palavras, é o evento que consiste em todos os resultados que não são favoráveis ao evento A\n",
    "\n",
    "## 2.1 Probabilidade da união de eventos\n",
    "- É a probabilidade de que pelo menos um dos eventos ocorra.\n",
    "- Utilizamos a regra da adição: \n",
    "### P(A ∪ B) = P(A) + P(B) - P(A ∩ B)\n",
    "- A regra de adição na teoria da probabilidade, está relacionada à probabilidade de eventos ocorrerem em um espaço amostral. Quando você está somando as probabilidades de dois eventos, digamos P(A)+P(B), você está considerando a probabilidade de A acontecer e a probabilidade de B acontecer separadamente. Aqui, você está considerando a probabilidade de eventos individualmente, sem se preocupar com a sobreposição de elementos entre eles. Portanto, excluímos a intersecção para evitar a calcular a sobreposição dos eventos e garantir que a probabilidade da união seja calculada corretamente.\n",
    "\n",
    "**1 - Em uma sala de aula, há 20 meninos e 30 meninas. Desses estudantes, 18 usam óculos e 8 são meninos. Se um estudante dessa sala for sorteado ao acaso, qual é a probabilidade de o sorteado usar óculos ou ser um menino?** \n",
    "- S(espaço amostral) = 50\n",
    "- P(A) = 18  usam óculos\n",
    "- P(B) = 20 são meninos\n",
    "- P(A∩B) = 8 são meninos e usam óculos\n",
    "- P(A ∪ B) = P(A) + P(B) - P(A ∩ B)\n",
    "- P(A ∪ B) = 18/50 + 20/50 - 8/50=0,6  \n",
    "- 0.6x100= 60%"
   ]
  },
  {
   "cell_type": "code",
   "execution_count": 9,
   "id": "7e592a14",
   "metadata": {},
   "outputs": [
    {
     "data": {
      "text/plain": [
       "0.6"
      ]
     },
     "execution_count": 9,
     "metadata": {},
     "output_type": "execute_result"
    }
   ],
   "source": [
    "Paub= 18/50 + 20/50 - 8/50\n",
    "Paub"
   ]
  },
  {
   "cell_type": "markdown",
   "id": "724d51a0",
   "metadata": {},
   "source": [
    "**2 - Em uma empresa com 80 funcionários, 30 são mulheres, e 8 delas têm menos que 25 anos de idade. Além disso, dos homens, há 10 deles que têm menos de 25 anos. Se um funcionário for sorteado para ganhar um prêmio nas festas do final de ano, qual é a probabilidade dessa pessoa ter menos de 25 anos ou ser uma mulher?**\n",
    "\n",
    "- S(espaço amostral) = 80\n",
    "- P(A) = 18, pessoas com menos de 25 anos (10 homens, 8 mulheres)\n",
    "- P(B) = 30, ser mulher\n",
    "- P(A ∩ B) = 8 ser mulher e ter menos de 25 \n",
    "- P(A ∪ B) = P(A) + P(B) - P(A ∩ B)\n",
    "- P(A ∪ B) = 18/80 + 30/80 - 8/80=0,5 \n",
    "- 0.5x100= 50%"
   ]
  },
  {
   "cell_type": "code",
   "execution_count": 10,
   "id": "0e456b20",
   "metadata": {},
   "outputs": [
    {
     "data": {
      "text/plain": [
       "0.5"
      ]
     },
     "execution_count": 10,
     "metadata": {},
     "output_type": "execute_result"
    }
   ],
   "source": [
    "Paub= 18/80 + 30/80 - 8/80\n",
    "Paub"
   ]
  },
  {
   "cell_type": "markdown",
   "id": "6020188a",
   "metadata": {},
   "source": [
    "## 2.1 Probabilidade de Intersecção de eventos\n",
    "- A probabilidade da intersecção de eventos refere-se à probabilidade de que dois ou mais eventos ocorram simultaneamente\n",
    "\n",
    "## 2.1.1 Intersecção de eventos indepedentes\n",
    "- Se A e B são eventos independentes, então a probabilidade de ambos os eventos ocorrerem ao  mesmo tempo (ou seja, a probabilidade da intersecção A∩B) é o produto das probabilidades dos eventos individuais.\n",
    "- Utilizamos a regra da multiplicação \n",
    "### P(A∩B)=P(A)×P(B)\n",
    "- Desta forma, quando dois eventos são independentes, significa que a ocorrência ou não ocorrência de um evento não afeta a probabilidade de ocorrência do outro evento. Nesse caso, a probabilidade de intersecção dos dois eventos é calculada multiplicando as probabilidades dos eventos individuais.\n",
    "\n",
    "**1-  Suponha que você esteja se preparando para o café da manhã e tenha duas escolhas independentes a fazer:**\n",
    "- Escolha do café: Você pode escolher entre café preto (probabilidade de 70%) ou café com leite (probabilidade de 30%).\n",
    "- Escolha do pão: Você pode escolher entre pão integral (probabilidade de 60%) ou pão branco (probabilidade de 40%).   \n",
    "**Agora, digamos que você queira calcular a probabilidade de escolher café preto e pão integral para o café da manhã. Usando a propriedade da multiplicação para eventos independentes, qual o resultado?** \n",
    "\n",
    "- P(A∩B)=P(A)×P(B)\n",
    "- P(A) = 0.7, probabilidade de escolher café preto;\n",
    "- P(B) = 0.6, probabilidade de escolher pão integral;\n",
    "- P(A∩B)= 0.7x0.6= 0.42\n"
   ]
  },
  {
   "cell_type": "code",
   "execution_count": 11,
   "id": "5da8b909",
   "metadata": {},
   "outputs": [
    {
     "data": {
      "text/plain": [
       "0.42"
      ]
     },
     "execution_count": 11,
     "metadata": {},
     "output_type": "execute_result"
    }
   ],
   "source": [
    "Pab = 0.7*0.6\n",
    "Pab"
   ]
  },
  {
   "cell_type": "markdown",
   "id": "fd680237",
   "metadata": {},
   "source": [
    "## 2.1.2 Intersecção de eventos depedentes\n",
    "- A ocorrência de um evento afeta a probabilidade de ocorrência do outro evento. Isso significa que a probabilidade de um evento ocorrer é condicionada pela ocorrência ou não ocorrência do outro evento.\n",
    "- se A e B são eventos dependentes, a probabilidade da intersecção deles, denotada por P(A∩B), é calculada usando a probabilidade condicional:\n",
    "### P(A∩B)=P(A) * P(B|A)\n",
    "    - P(A∩B)= representa a probabilidade da intersecção de dois eventos, ou seja, a probabilidade de ambos os eventos A e B ocorrerem ao mesmo tempo.\n",
    "    - P(A)= é a probabilidade do evento A ocorrer sozinho, sem considerar o evento B.\n",
    "    - P(B∣A)= é a probabilidade condicional de B ocorrer dado que A  já ocorreu. Isso é o que chamamos de probabilidade condicional.\n",
    "   \n",
    "**1 -  Qual a probabilidade de em um baralho tirarmos duas cartas ás em seguida?**\n",
    "\n",
    "- P(A) = a primeira carta selecionada é um ás. Há 4 ases em um baralho de 52 cartas. Portanto, a probabilidade de selecionar um ás na primeira carta, é 4/52=1/13;\n",
    "- P(B∣A) = a segunda carta também ser um ás.  Após retirar um ás do baralho, restam 51 cartas no baralho, das quais 3 são ases (pois já retiramos um). Portanto, a probabilidade de selecionar um ás na segunda carta, dado que a primeira carta já foi um ás, P(B∣A), é 3/51=1/17\n",
    "- P(A∩B)=P(A)x P(B∣A)\n",
    "- P(A∩B)=(1/13)×(1/17)\n",
    "- P(A∩B)=1/221\n"
   ]
  },
  {
   "cell_type": "code",
   "execution_count": 12,
   "id": "384a060d",
   "metadata": {},
   "outputs": [
    {
     "data": {
      "text/plain": [
       "0.004524886877828055"
      ]
     },
     "execution_count": 12,
     "metadata": {},
     "output_type": "execute_result"
    }
   ],
   "source": [
    "Pab = (1/13)*(1/17)\n",
    "Pab"
   ]
  },
  {
   "cell_type": "markdown",
   "id": "306d3d2d",
   "metadata": {},
   "source": [
    "**2- Supondo que temos uma urna com três bolas de cores diferentes: vermelho, verde e azul. Qual probabilidade de que a primeira bola selecionada seja vermelha e a segunda bola selecionada seja azul.\n",
    "Suponha que a urna contenha 20 bolas, das quais:** \n",
    "- 8 são vermelhas\n",
    "- 5 são azuis\n",
    "- 7 são verdes\n",
    "\n",
    "- P(A) = 8/20, retirar a primeira bola e que ela seja vermelha;\n",
    "- P(B∣A) = 5/19, retirar a segunda bola e que ela seja azul, como já retiramos uma bola da urna agora temos 19 bolas;\n",
    "- P(A∩B)=(8/20)×(5/19)=\n",
    "- P(A∩B)= 2/19"
   ]
  },
  {
   "cell_type": "code",
   "execution_count": 13,
   "id": "84d273ff",
   "metadata": {},
   "outputs": [
    {
     "data": {
      "text/plain": [
       "0.10526315789473684"
      ]
     },
     "execution_count": 13,
     "metadata": {},
     "output_type": "execute_result"
    }
   ],
   "source": [
    "Pab = (8/20)*(5/19)\n",
    "Pab"
   ]
  },
  {
   "cell_type": "markdown",
   "id": "d49a9243",
   "metadata": {},
   "source": [
    "**3 - Suponha que em uma sala de aula, os estudantes sejam selecionados aleatoriamente para participar de uma competição de matemática e de uma competição de ciências. Queremos calcular a probabilidade de que um estudante selecionado aleatoriamente participe tanto da competição de matemática quanto da competição de ciências, ou seja, a probabilidade de ambos A e B ocorrerem simultaneamente.**\n",
    "- Suponha que na sala de aula, 20 estudantes participam da competição de matemática e há um total de 50 estudantes.\n",
    "- Suponha que entre os estudantes que participam da competição de matemática, 15 também participam da competição de ciências\n",
    "- P(A) = 20/50, 2/5, participar da competição de matemática;\n",
    "- P(B∣A) = 15/20, probabilidade de participar da competição de ciências dado que já participou da competição de matemática;\n",
    "- P(A∩B)=(20/50)×(15/20)=\n",
    "- P(A∩B)= 3/10"
   ]
  },
  {
   "cell_type": "code",
   "execution_count": 14,
   "id": "9c7bd92e",
   "metadata": {},
   "outputs": [
    {
     "data": {
      "text/plain": [
       "0.30000000000000004"
      ]
     },
     "execution_count": 14,
     "metadata": {},
     "output_type": "execute_result"
    }
   ],
   "source": [
    "Pab = (20/50)*(15/20)\n",
    "Pab"
   ]
  },
  {
   "attachments": {
    "image-14.png": {
     "image/png": "[encoded data removed]"
    }
   },
   "cell_type": "markdown",
   "id": "1aef925e",
   "metadata": {},
   "source": [
    "## 2.2 Probabilidade condicional\n",
    "- É a probabilidade de um evento ocorrer, dado que outro evento já ocorreu. É uma medida de como a probabilidade de um evento é afetada pela ocorrência de outro evento.\n",
    "- Para calcular P(A∣B), a probabilidade condicional de A ocorrer dado que B já ocorreu, podemos usar a seguinte fórmula:\n",
    "### P(A|B)= P(A∩B)/P(B)\n",
    "\n",
    "**1-  Qual a probabilidade de jogar um par de dados e obter uma soma de 7 dado que o primeiro dado é ímpar, ou seja, P(A|B)?**\n",
    "- P(B) = 3/6, 1/2, a probabilidade de jogar um dado e ser impar\n",
    "- P(A∩B)=  A probabilidade de intersecção dos dois eventos, no caso ser impar e o resultado dar 7.\n",
    "    - Neste caso, os pares de dados (1, 6) e (3, 4) são os únicos que atendem a ambas as condições (soma dos números igual a 7 e primeiro dado mostrando um número ímpar). Como há um total de 36 resultados possíveis ao jogar dois dados justos (6x6), a probabilidade de A e B ocorrerem simultaneamente, ou seja, P(A ∩ B), é o número de casos favoráveis (2) dividido pelo número total de casos possíveis (36), resultando em 2/36, que é igual a 1/18\n",
    "\n",
    "- P(A|B)= P(A∩B)/P(B)\n",
    "- P(A|B) =(1/18)/(1/2)= \n",
    "- Dividindo frações, obtemos: P(A|B) = (1/18) * (2/1) = 2/18, que pode ser simplificado para 1/9.\n",
    "\n",
    "**2-  Em uma cidade, 60% das pessoas gostam de sorvete de chocolate, 40% gostam de sorvete de morango e 30% gostam de ambos os sabores. Se uma pessoa é escolhida aleatoriamente, qual é a probabilidade de ela gostar de sorvete de morango, dado que ela gosta de sorvete de chocolate?**\n",
    "\n",
    "- P(B) = 0.6\n",
    "- P(A∩B)=  0.3\n",
    "- P(A|B)= 0.3/0.6= 0.5\n",
    "\n",
    "**3 - Suponha que a probabilidade de chover em um dia aleatório seja 0.8 (80%) e a probabilidade de uma pessoa levar um guarda-chuva quando esta chovendo, seja 0.6 (60%). Qual a probabilidade condicional de uma pessoa levar um guarda-chuva, dado que está chovendo?**\n",
    "\n",
    "- P(B) = 0.8\n",
    "- P(A∩B)=  0.6\n",
    "- P(A|B)= 0.6/0.8= 0.75\n",
    "\n",
    "## 2.3 Probabilidade Total\n",
    "- A probabilidade total é um conceito fundamental na teoria da probabilidade, usado para calcular a probabilidade de um evento com base em diferentes cenários ou condições possíveis. Essa técnica é especialmente útil quando você tem múltiplos eventos ou condições que podem ocorrer, e você quer calcular a probabilidade de um evento específico, considerando todas essas condições.\n",
    "- O teorema da probabilidade total afirma que a probabilidade de B pode ser expressa como a soma das probabilidades condicionais de B dado cada Ai, multiplicada pela probabilidade de Ai ocorrer:\n",
    "![image-14.png](attachment:image-14.png)\n",
    "- Desta forma, essa fórmula é frequentemente usada em problemas nos quais o evento B pode ocorrer devido a diferentes condições ou cenários mutuamente exclusivos, representados por Ai. Ela é uma maneira de combinar esses diferentes cenários ponderando suas probabilidades condicionais P(B∣Ai) pelas probabilidades de cada cenário P(Ai).\n",
    "    - P(B): Essa é a probabilidade do evento desejado B ocorrer, ou seja, estamos interessados na probabilidade de B independentemente de qualquer outra coisa.\n",
    "    - ∑^ni=1: Isso indica que estamos somando sobre todos os cenários possíveis representados pelos eventos Ai​, onde n é o número total desses cenários.\n",
    "    - P(B∣Ai): Esta é a probabilidade condicional de B ocorrer dado que o evento Ai ocorreu. Em outras palavras, estamos considerando a probabilidade do evento B sob a condição de que estamos no cenário ou condição representada por Ai.\n",
    "    - P(Ai): Esta é a probabilidade do evento Ai ocorrer, ou seja, é a probabilidade de estarmos no cenário ou condição representada por Ai.\n",
    "    \n",
    "**1 - Suponha que em uma cidade, 40% dos habitantes são vegetarianos, 30% consomem carne de frango e 30% consomem carne de boi. Além disso, sabe-se que entre os vegetarianos, 70% preferem produtos orgânicos, entre os consumidores de carne de frango, 50% preferem produtos orgânicos, e entre os consumidores de carne de boi, 20% preferem produtos orgânicos.Queremos calcular a probabilidade de um habitante da cidade escolhido ao acaso preferir produtos orgânicos.**\n",
    "- Solução:\n",
    "- Vamos denotar os eventos da seguinte forma:\n",
    "    - A1: Habitante é vegetariano.\n",
    "    - A2: Habitante consome carne de frango.\n",
    "    - A3: Habitante consome carne de boi.\n",
    "    - B: Habitante prefere produtos orgânicos.\n",
    "- Temos as seguintes probabilidades:\n",
    "    - P(A1)=0.40\n",
    "    - P(A2)=0.30\n",
    "    - P(A3)=0.30\n",
    "    - P(B∣A1)=0.70\n",
    "    - P(B∣A2)=0.50\n",
    "    - P(B∣A3)=0.20\n",
    "    \n",
    "- Substituindo com as probabilidades dadas: \n",
    "- P(B)=P(B∣A1)×P(A1)+P(B∣A2)×P(A2)+P(B∣A3)×P(A3)\n",
    "- P(B)=(0.70×0.40)+(0.50×0.30)+(0.20×0.30)\n",
    "- P(B)=0.28+0.15+0.06\n",
    "- P(B)=0.49\n",
    "- Portanto, a probabilidade de um habitante da cidade preferir produtos orgânicos é de 0.49 ou 49%."
   ]
  },
  {
   "cell_type": "code",
   "execution_count": 15,
   "id": "c279f572",
   "metadata": {},
   "outputs": [
    {
     "data": {
      "text/plain": [
       "0.48999999999999994"
      ]
     },
     "execution_count": 15,
     "metadata": {},
     "output_type": "execute_result"
    }
   ],
   "source": [
    "pb= (0.70*0.40)+(0.50*0.30)+(0.20*0.30)\n",
    "pb"
   ]
  },
  {
   "attachments": {},
   "cell_type": "markdown",
   "id": "6d74d013",
   "metadata": {},
   "source": [
    "**2 - Suponha que existam duas máquinas, A e B, usadas para produzir peças. A máquina A produz 60% das peças e tem uma taxa de defeito de 1%, enquanto a máquina B produz 40% das peças e tem uma taxa de defeito de 2%.\n",
    "Queremos calcular a probabilidade total de uma peça ser defeituosa.**\n",
    "\n",
    "- Vamos denotar os eventos da seguinte forma:\n",
    "    - A: A peça é produzida pela máquina A.\n",
    "    - B: A peça é produzida pela máquina B.\n",
    "    - D: A peça é defeituosa.\n",
    "\n",
    "- Então, queremos calcular P(D), ou seja, a probabilidade de uma peça ser defeituosa. Usando a fórmula da probabilidade total, temos:\n",
    "- P(D)=P(D∣A)×P(A)+P(D∣B)×P(B)\n",
    "\n",
    "**Onde:** \n",
    "- P(D∣A): Probabilidade de uma peça ser defeituosa dado que é produzida pela máquina A.\n",
    "- P(A): Probabilidade de uma peça ser produzida pela máquina A.\n",
    "- P(D∣B): Probabilidade de uma peça ser defeituosa dado que é produzida pela máquina B.\n",
    "- P(B): Probabilidade de uma peça ser produzida pela máquina B.\n",
    "\n",
    "Agora, vamos calcular cada parte:\n",
    "P(A)=0.60: Probabilidade de uma peça ser produzida pela máquina A.\n",
    "P(B)=0.40: Probabilidade de uma peça ser produzida pela máquina B.\n",
    "P(D∣A)=0.01: Probabilidade de uma peça ser defeituosa dado que é produzida pela máquina A.\n",
    "P(D∣B)=0.02: Probabilidade de uma peça ser defeituosa dado que é produzida pela máquina B.\n",
    "\n",
    "**Agora, vamos substituir esses valores na fórmula:**\n",
    "\n",
    "- P(D)=(0.01×0.60)+(0.02×0.40)\n",
    "- P(D)=0.006+0.008\n",
    "- P(D)=0.014\n",
    "- Portanto, a probabilidade total de uma peça ser defeituosa é de 0.014 ou 1.4%.\n",
    "\n"
   ]
  },
  {
   "cell_type": "code",
   "execution_count": 16,
   "id": "c7558d18",
   "metadata": {},
   "outputs": [
    {
     "data": {
      "text/plain": [
       "0.014"
      ]
     },
     "execution_count": 16,
     "metadata": {},
     "output_type": "execute_result"
    }
   ],
   "source": [
    "pd = (0.01*0.60)+(0.02*0.40)\n",
    "pd"
   ]
  },
  {
   "attachments": {
    "image-4.png": {
     "image/png": "[encoded data removed]"
    },
    "image.png": {
     "image/png": "[encoded data removed]"
    }
   },
   "cell_type": "markdown",
   "id": "38cba436",
   "metadata": {},
   "source": [
    "## 2.4 Teorema de Bayes\n",
    "\n",
    "- O Teorema de Bayes é um princípio fundamental da teoria da probabilidade que descreve como atualizar a probabilidade de uma hipótese ou evento dado novos dados ou evidências. Desta forma, ele descreve a relação entre a probabilidade condicional de dois eventos.\n",
    "- O teorema de Bayes afirma que a probabilidade de um evento A ocorrer, dado que outro evento B já ocorreu, pode ser calculada a partir da probabilidade de B dado A e das probabilidades iniciais de A e B. Matematicamente, o teorema de Bayes é expresso da seguinte forma:\n",
    "![image.png](attachment:image.png)\n",
    "\n",
    "**Onde:**\n",
    "- P(A∣B): é a probabilidade do evento A ocorrer dado que o evento B já ocorreu (probabilidade condicional de A dado B).\n",
    "- P(B∣A): é a probabilidade do evento B ocorrer dado que o evento A já ocorreu (probabilidade condicional de B dado A).\n",
    "- P(B): são as probabilidades iniciais dos eventos A e B, respectivamente.\n",
    "- P(B): nós não temos essa informação diretamente, pois a probabilidade de B depende de A ocorrer ou não\n",
    "\n",
    "#### Desta forma, precisamos incluir a probabilidade total no denominador para garantir que a probabilidade condicional P(A∣B) esteja corretamente normalizada. Quando estamos interessados na probabilidade condicional de A dado B, estamos considerando dois casos: A ocorrendo e A não ocorrendo. A probabilidade total inclui ambos esses casos\n",
    "\n",
    "![image-4.png](attachment:image-4.png)\n",
    "\n",
    "**Onde:**\n",
    "\n",
    "- P(A|B): Qual a probabilidade do evento  A ocorrer dado que o evento B já ocorreu\n",
    "- P(B|A): Qual a probabilidade do evento  B ocorrer dado que o evento A já ocorreu\n",
    "- P(A): Probabilidade do evento A\n",
    "- P(B): Não temos esta informação, então usamos a probabilidade total:\n",
    "    - P(B│A) x P(A) + P(B│Ā) x P(Ā):\n",
    "        - P(B│A) * P(A) representa a probabilidade do B ocorrer quando A ocorre * probabilidade A\n",
    "        - P(B│Ā) * P(Ā) representa a probabilidade de B ocorrer quando A não ocorre * probabilidade da não ocorrência de A\n",
    "        \n",
    "**1 - Um competidor de mountain bike tem 50% de chance de vencer uma corrida sob chuva, mas se não chover suas chances sobrem para 90%.  A previsão meteorológica estima em 20% a chance de que chova durante a competição.  Sabendo que o competidor venceu, qual a probabilidade de ter chovido durante o evento de mountain bike?**\n",
    "\n",
    "- P(A|B): Qual a probabilidade de ter chovido dado que o competido venceu; ?\n",
    "- P(B|A): Qual a probabilidade do competidor vencer dado que choveu; 0.5\n",
    "- P(A): Probabilidade de chover: 0.2\n",
    "- P(B): Probabilidade do competidor vencer? Nós não temos essa informação diretamente, pois a probabilidade do competidor vencer depende das condições meteorológicas; \n",
    "\n",
    "- Teremos que usar a lei da probabilidade total:\n",
    "- P(B│A) * P(A) + P(B│Ā) * P(Ā)\n",
    "- A Lei da Probabilidade Total nos diz que a probabilidade de um evento B pode ser calculada somando as probabilidades condicionais de B dado um conjunto  de eventos. Neste caso, esse conjunto é o evento A ocorrer ou não.\n",
    "\n",
    "- P(B│A) x P(A): representa a probabilidade do B ocorrer quando A ocorre;  0.5 x 0.2\n",
    "- P(B│Ā) x P(Ā): representa a probabilidade de B ocorrer quando A não ocorre. 0.9x0.8\n",
    "\n",
    "- P(A|B)= (0.5x0.2)/(0.5x0.2) + (0.9x0.8)\n",
    "- P(A|B)= 0.1/0.1+0.72\n",
    "- P(A|B)= 0.1/0.82\n",
    "- P(A|B)= 0.122, ou 12,2%\n"
   ]
  },
  {
   "cell_type": "code",
   "execution_count": 17,
   "id": "33ac86ce",
   "metadata": {},
   "outputs": [
    {
     "data": {
      "text/plain": [
       "0.12195121951219512"
      ]
     },
     "execution_count": 17,
     "metadata": {},
     "output_type": "execute_result"
    }
   ],
   "source": [
    "pab=(0.5*0.2)/ ((0.5*0.2) + (0.9*0.8))\n",
    "pab"
   ]
  },
  {
   "cell_type": "markdown",
   "id": "c141e22a",
   "metadata": {},
   "source": [
    "**2 -  Suponha que uma doença afeta 1% da população. Um teste para essa doença tem uma taxa de verdadeiros positivos (sensibilidade) de 95% e uma taxa de falsos positivos de 5%.  Se uma pessoa é testada e o resultado é positivo, qual é a probabilidade de ela realmente ter a doença?**\n",
    "\n",
    "- P(A|B): Qual a probabilidade do evento  A ocorrer dado que o evento B já ocorreu\n",
    "- P(B|A): Qual a probabilidade do evento  B ocorrer dado que o evento A já ocorreu\n",
    "- P(A): Probabilidade do evento A\n",
    "- P(B): ?\n",
    "    - P(B│A) * P(A) + P(B│Ā) * P(Ā)\n",
    "        - P(B│A) * P(A) representa a probabilidade do B ocorrer quando A ocorre * probabilidade A\n",
    "        - P(B│Ā) * P(Ā) representa a probabilidade de B ocorrer quando A não ocorre * probabilidade da não ocorrência de A\n",
    "      \n",
    "**Solução:**     \n",
    "- P(A|B): A probabilidade dela ter câncer dado que o resultado deu positivo, o que queremos saber\n",
    "- P(B|A): A probabilidade do resultado dar positivo dado que ela tem câncer,  0.95\n",
    "- P(A): A probabilidade de ter a doença 0.01\n",
    "- P(B): a probabilidade do teste dar positivo. Nós não temos essa informação diretamente, pois a probabilidade do teste dar - positivo dependerá de a pessoa estar ou não doente.\n",
    "    - P(B│A) x P(A): A probabilidade do resultado dar positivo dado que ela tem câncer,  0.95 *a probabilidade de ter a doença 0.01\n",
    "    - P(B│Ā) x P(Ā): A probabilidade do resultado dar positivo dado que ela não tem câncer,  0.05 * a probabilidade de não ter câncer 0.99\n",
    "    \n",
    "- P(A|B): 0.95x0.01/(0.95x0.01)+ (0.05x0.99)\n",
    "- P(A|B): 0.0095/0.0095 + 0.0495\n",
    "- P(A|B): 0.0095/0.059\n",
    "- P(A|B): 0.16 ou 16%"
   ]
  },
  {
   "cell_type": "code",
   "execution_count": 18,
   "id": "a9f5efcf",
   "metadata": {},
   "outputs": [
    {
     "data": {
      "text/plain": [
       "0.16101694915254236"
      ]
     },
     "execution_count": 18,
     "metadata": {},
     "output_type": "execute_result"
    }
   ],
   "source": [
    "pab= 0.95*0.01/((0.95*0.01)+ (0.05*0.99))\n",
    "pab"
   ]
  }
 ],
 "metadata": {
  "kernelspec": {
   "display_name": "Python 3 (ipykernel)",
   "language": "python",
   "name": "python3"
  },
  "language_info": {
   "codemirror_mode": {
    "name": "ipython",
    "version": 3
   },
   "file_extension": ".py",
   "mimetype": "text/x-python",
   "name": "python",
   "nbconvert_exporter": "python",
   "pygments_lexer": "ipython3",
   "version": "3.11.4"
  }
 },
 "nbformat": 4,
 "nbformat_minor": 5
}
